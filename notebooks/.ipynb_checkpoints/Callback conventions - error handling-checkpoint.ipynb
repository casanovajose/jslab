{
 "cells": [
  {
   "cell_type": "code",
   "execution_count": 1,
   "metadata": {},
   "outputs": [],
   "source": [
    "// Calback come last\n",
    "// errors come first\n",
    "\n",
    "const fs = require(\"fs\");\n",
    "function readJSON(file, cb) {\n",
    "    fs.readFile(file, \"utf8\", (err, data) => {\n",
    "        let parsed;\n",
    "        if (err)\n",
    "            // propagate and exit current func\n",
    "            return cb(err);\n",
    "        \n",
    "        try {\n",
    "            // parse file\n",
    "            parsed = JSON.parse(data);\n",
    "        } catch (err) {\n",
    "            return cb(err);\n",
    "        }\n",
    "        \n",
    "        // no errors - CPS without return\n",
    "        cb(null, parsed);\n",
    "    });\n",
    "}"
   ]
  },
  {
   "cell_type": "code",
   "execution_count": null,
   "metadata": {},
   "outputs": [],
   "source": [
    "process.on('uncaughtException', (err) => {\n",
    "    console.error('This will catch at last the ' +\n",
    "        'JSON parsing exception: ' + err.message);\n",
    "    // Terminates the application with 1 (error) as exit code:\n",
    "    // without the following line, the application would continue\n",
    "    process.exit(1);\n",
    "});\n",
    "\n",
    "// exit from the application after an uncaught exception is received anyway"
   ]
  },
  {
   "cell_type": "code",
   "execution_count": null,
   "metadata": {},
   "outputs": [],
   "source": [
    "// *-* ANTI PATTERN ALERT *-*\n",
    "// there is no way of catching an eventual exception coming from JSON.parse()\n",
    "\n",
    "function readJSONThrows(filename, callback) {\n",
    "    fs.readFile(filename, 'utf8', (err, data) => {\n",
    "        if(err) {\n",
    "            return callback(err);\n",
    "        }\n",
    "        //no errors, propagate just the data\n",
    "        callback(null, JSON.parse(data));\n",
    "    });\n",
    "};\n",
    "\n",
    "try {\n",
    "    readJSONThrows('nonJSON.txt', function(err, result) {\n",
    "    //...\n",
    "    });\n",
    "} catch(err) {\n",
    "    console.log('This will not catch the JSON parsing exception');\n",
    "}"
   ]
  }
 ],
 "metadata": {
  "kernelspec": {
   "display_name": "Javascript (Node.js)",
   "language": "javascript",
   "name": "javascript"
  },
  "language_info": {
   "file_extension": ".js",
   "mimetype": "application/javascript",
   "name": "javascript",
   "version": "8.12.0"
  }
 },
 "nbformat": 4,
 "nbformat_minor": 2
}
