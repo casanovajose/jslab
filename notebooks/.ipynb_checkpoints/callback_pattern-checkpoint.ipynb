{
 "cells": [
  {
   "cell_type": "code",
   "execution_count": 1,
   "metadata": {},
   "outputs": [
    {
     "name": "stdout",
     "output_type": "stream",
     "text": [
      "before\n",
      "the result 7\n",
      "after\n"
     ]
    }
   ],
   "source": [
    "/* Node essential patterns\n",
    "*\n",
    "*  The callback pattern\n",
    "\n",
    "   the result is propagated by passing it to another function (the callback), instead\n",
    "   of directly returning it to the caller\n",
    "*/\n",
    "\n",
    "// direct style\n",
    "function addDirect (a, b) {\n",
    "    return a + b;\n",
    "}\n",
    "\n",
    "// CPS (Continue passing style)\n",
    "// it will return a value only when the callback completes its execution\n",
    "function add (a, b, cb) {\n",
    "    cb(a + b)\n",
    "}\n",
    "\n",
    "console.log(\"before\");\n",
    "add(2, 5, result => console.log(`the result ${result}`));\n",
    "console.log(\"after\");"
   ]
  },
  {
   "cell_type": "code",
   "execution_count": 5,
   "metadata": {},
   "outputs": [
    {
     "name": "stdout",
     "output_type": "stream",
     "text": [
      "before\n",
      "after\n",
      "the result 7\n"
     ]
    }
   ],
   "source": [
    "// Asynchronus CPS\n",
    "// it will not wait for the callback to\n",
    "// be executed, but instead, it returns immediately, giving the control back to\n",
    "// addAsync() , and then back to its caller\n",
    "function addAsync(a, b, cb) {\n",
    "    setTimeout(() => cb(a + b), 100);\n",
    "}\n",
    "\n",
    "console.log(\"before\");\n",
    "addAsync(2, 5, result => console.log(`the result ${result}`));\n",
    "console.log(\"after\");\n",
    "\n",
    "/*\n",
    "it gives control back to the event loop as soon as an asynchronous request is sent, thus allowing a\n",
    "new event from the queue to be processed.\n",
    "*/"
   ]
  },
  {
   "cell_type": "code",
   "execution_count": 6,
   "metadata": {},
   "outputs": [
    {
     "name": "stdout",
     "output_type": "stream",
     "text": [
      "[ 0, 4, 6, 8 ]\n"
     ]
    }
   ],
   "source": [
    "// not every callback is CPS\n",
    "const result = [1, 5, 7, 9].map(e => e -1);\n",
    "console.log(result)\n",
    "// the callback is used just to iterate over the elements of the array\n",
    "// and not to pass the result of the operation"
   ]
  },
  {
   "cell_type": "code",
   "execution_count": 1,
   "metadata": {},
   "outputs": [],
   "source": [
    "// -*- ANTIPATTERN ALERT -*-\n",
    "// dangerous patter mix syles sync / async in the same API call:\n",
    "const fs = require(\"fs\");\n",
    "const cache = {};\n",
    "\n",
    "function inconsistentRead(file, cb) {\n",
    "    if (cache[file]) {\n",
    "        // sync\n",
    "        cb(cache[file])\n",
    "    } else {\n",
    "        // async\n",
    "        fs.readFile(file, \"utf8\", (err, data) => {\n",
    "            cache[file] = data;\n",
    "            cb(data);\n",
    "        })\n",
    "    }\n",
    "    \n",
    "}\n",
    "\n",
    "// -*- ANTIPATTERN ALERT -*-\n",
    "// unleashing zalgo\n",
    "// this will break the code\n",
    "function createFileReader(file) {\n",
    "    const listeners = [];\n",
    "    inconsistentRead(file, value => {\n",
    "       listeners.forEach(listener => listener.push(listener)); \n",
    "    });\n",
    "    \n",
    "    return {\n",
    "        onDataReady: listener => listeners.push(listener)\n",
    "    }\n",
    "}\n"
   ]
  },
  {
   "cell_type": "code",
   "execution_count": null,
   "metadata": {},
   "outputs": [],
   "source": [
    "// PATERN -> for sync functions prefer direct style\n",
    "// direct style\n",
    "\n",
    "// const fs = require(\"fs\");\n",
    "// const cache = {};\n",
    "function consistentReadSync(file) {\n",
    "    if (cache[file]) {\n",
    "        return cache[file]\n",
    "    } else {\n",
    "        cache[file] =fs.readFileSync(file, \"utf8\");\n",
    "        return cache[file]\n",
    "    }\n",
    "}"
   ]
  },
  {
   "cell_type": "code",
   "execution_count": 1,
   "metadata": {},
   "outputs": [],
   "source": [
    "// deferred execution\n",
    "// const fs = require(\"fs\");\n",
    "// process.nextTick\n",
    "// const cache = {};\n",
    "/*\n",
    "We guarantee that a callback is invoked asynchronously by deferring its execution using process.nextTick()\n",
    "*/\n",
    "\n",
    "function consistentReadAsync(file, cb) {\n",
    "    if(cache[file]) {\n",
    "        process.nextTick(() => cb(cache[file]))\n",
    "    } else {\n",
    "        // async call\n",
    "        fs.readFile(file, \"utf8\", (err, data) => {\n",
    "            cache[file] = data;\n",
    "            cb(data);\n",
    "        });\n",
    "    }    \n",
    "}\n",
    "\n",
    "/*\n",
    "Callbacks deferred with process.nextTick() run before any other I/O event is fired, while with\n",
    "setImmediate() , the execution is queued behind any I/O event that is already in the queue\n",
    "*/"
   ]
  },
  {
   "cell_type": "code",
   "execution_count": null,
   "metadata": {},
   "outputs": [],
   "source": []
  }
 ],
 "metadata": {
  "CodeCell": {
   "cm_config": {
    "indentUnit": 2
   }
  },
  "kernelspec": {
   "display_name": "Javascript (Node.js)",
   "language": "javascript",
   "name": "javascript"
  },
  "language_info": {
   "file_extension": ".js",
   "mimetype": "application/javascript",
   "name": "javascript",
   "version": "8.12.0"
  }
 },
 "nbformat": 4,
 "nbformat_minor": 2
}
