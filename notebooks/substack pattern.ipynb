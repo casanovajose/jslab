{
 "cells": [
  {
   "cell_type": "code",
   "execution_count": 1,
   "metadata": {},
   "outputs": [],
   "source": [
    "/*\n",
    "Substack pattern\n",
    "\n",
    "Expose the main functionality of a module by exporting only one function.\n",
    "Use the exported function as namespace to expose any auxiliary\n",
    "functionality.*/\n",
    "\n",
    "const hello = require(\"../substack\")"
   ]
  },
  {
   "cell_type": "code",
   "execution_count": 4,
   "metadata": {},
   "outputs": [
    {
     "name": "stdout",
     "output_type": "stream",
     "text": [
      "Hola    jose\n"
     ]
    }
   ],
   "source": [
    "hello(\"   jose\"); // main function"
   ]
  },
  {
   "cell_type": "code",
   "execution_count": 3,
   "metadata": {},
   "outputs": [
    {
     "name": "stdout",
     "output_type": "stream",
     "text": [
      "Hola I am triming\n"
     ]
    }
   ],
   "source": [
    "hello.trimHello(\"           I am triming\"); // hello as a namespace"
   ]
  },
  {
   "cell_type": "code",
   "execution_count": null,
   "metadata": {},
   "outputs": [],
   "source": []
  }
 ],
 "metadata": {
  "kernelspec": {
   "display_name": "Javascript (Node.js)",
   "language": "javascript",
   "name": "javascript"
  },
  "language_info": {
   "file_extension": ".js",
   "mimetype": "application/javascript",
   "name": "javascript",
   "version": "8.12.0"
  }
 },
 "nbformat": 4,
 "nbformat_minor": 2
}
